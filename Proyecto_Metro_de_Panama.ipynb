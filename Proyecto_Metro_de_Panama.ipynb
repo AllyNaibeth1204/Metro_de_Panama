{
  "nbformat": 4,
  "nbformat_minor": 0,
  "metadata": {
    "colab": {
      "provenance": []
    },
    "kernelspec": {
      "name": "python3",
      "display_name": "Python 3"
    },
    "language_info": {
      "name": "python"
    }
  },
  "cells": [
    {
      "cell_type": "markdown",
      "source": [
        "***PROYECTO METRO DE PANAMÁ***\n"
      ],
      "metadata": {
        "id": "98gndryE4Eku"
      }
    },
    {
      "cell_type": "code",
      "execution_count": 33,
      "metadata": {
        "id": "FZ5ucunTnCPt"
      },
      "outputs": [],
      "source": [
        "import pandas as pd\n",
        "import matplotlib.pyplot as plt"
      ]
    },
    {
      "cell_type": "code",
      "source": [
        "#DataFrame a utilizar\n",
        "path = '/content/drive/MyDrive/Metro_de_Panama/METRO_DE_PANAMA.csv'"
      ],
      "metadata": {
        "id": "kX5xaQm8nkGr"
      },
      "execution_count": 3,
      "outputs": []
    },
    {
      "cell_type": "markdown",
      "source": [
        "- Fecha: Enmarca el mes y el año de los datos presentados.\n",
        "- Pasajeros mensual: Es el total de pasajeros que recorrieron el metro en el mes indicado.\n",
        "- Pasajeros regulares: Son los pasajeros que pagan la tarifa general del metro (0.35 centavos) al no estar contemplados en ninguna de las excepciones que la administración ofrece.\n",
        "- Estudiantes: Esta categoría es ofrecida a los chicos de las escuelas, los mismos deben realizar un trámite aparte para poder adquirir la tarjeta estudiantil la cual les permite realizar un pago de 0.17 centavos.\n",
        "- Jubilados: A este grupo se le aplica el descuento ya establecido en las leyes del país del 30%, el mismo les permite pagar un pasaje de 0.24 centavos. También es necesario realizar un trámite adicional para obtener la tarjeta que permite efectuar dicho descuento.\n",
        "- Discapacitados: Este grupo también presenta un descuento similar al de los jubilados.\n",
        "- Montos reales: los 3 grupos que se presentan con este nombre engloban el total de dinero obtenido de los diversos grupos a nivel mensual.\n",
        "\n",
        "\n"
      ],
      "metadata": {
        "id": "_6rYZBZhnGwB"
      }
    },
    {
      "cell_type": "code",
      "source": [
        "data = pd.read_csv(path, encoding=\"latin1\", sep=\";\")"
      ],
      "metadata": {
        "id": "LW4qtbZtnq5u"
      },
      "execution_count": 4,
      "outputs": []
    },
    {
      "cell_type": "code",
      "source": [
        "data.head()"
      ],
      "metadata": {
        "id": "KCiP59BbrQ1p",
        "outputId": "4dd512f7-1b62-4f31-f688-3d1b2e2ac7e7",
        "colab": {
          "base_uri": "https://localhost:8080/",
          "height": 330
        }
      },
      "execution_count": 42,
      "outputs": [
        {
          "output_type": "execute_result",
          "data": {
            "text/plain": [
              "       ï»¿FECHA  PASAJEROS MENSUAL Pasajeros Regulares        Monto Real   \\\n",
              "0    ENERO 2017          6254437.0           6,098,587   B/.2,134,505.45    \n",
              "1  FEBRERO 2017          5799570.0           5,684,789   B/.1,989,676.15    \n",
              "2    MARZO 2017          6981792.0           6,788,179   B/.2,375,864.09    \n",
              "3    ABRIL 2017          5797643.0           5,622,331   B/.1,967,815.85    \n",
              "4     MAYO 2017          7654786.0           7,419,367   B/.2,596,778.45    \n",
              "\n",
              "  Estudiantes   Monto Real .1 Jubilados   Monto Real .2 Discapacitados  \\\n",
              "0           0         B/.-      153,673   B/.53,785.55           2,177   \n",
              "1           0         B/.-      113,053   B/.39,568.55           1,728   \n",
              "2      42,846   B/.14,996.10    148,319   B/.51,911.65           2,448   \n",
              "3      48,228   B/.16,879.80    124,910   B/.43,718.50           2,174   \n",
              "4      65,876   B/.23,056.60    166,608   B/.58,312.80           2,935   \n",
              "\n",
              "   Monto Real .3  monto_final  \n",
              "0     B/.761.95    2189052.95  \n",
              "1     B/.604.80    2029849.50  \n",
              "2     B/.856.80    2443628.64  \n",
              "3     B/.760.90    2029175.05  \n",
              "4   B/.1,027.25    2679175.10  "
            ],
            "text/html": [
              "\n",
              "  <div id=\"df-a95553b2-d9f0-4c98-860a-8531e462b01e\" class=\"colab-df-container\">\n",
              "    <div>\n",
              "<style scoped>\n",
              "    .dataframe tbody tr th:only-of-type {\n",
              "        vertical-align: middle;\n",
              "    }\n",
              "\n",
              "    .dataframe tbody tr th {\n",
              "        vertical-align: top;\n",
              "    }\n",
              "\n",
              "    .dataframe thead th {\n",
              "        text-align: right;\n",
              "    }\n",
              "</style>\n",
              "<table border=\"1\" class=\"dataframe\">\n",
              "  <thead>\n",
              "    <tr style=\"text-align: right;\">\n",
              "      <th></th>\n",
              "      <th>ï»¿FECHA</th>\n",
              "      <th>PASAJEROS MENSUAL</th>\n",
              "      <th>Pasajeros Regulares</th>\n",
              "      <th>Monto Real</th>\n",
              "      <th>Estudiantes</th>\n",
              "      <th>Monto Real .1</th>\n",
              "      <th>Jubilados</th>\n",
              "      <th>Monto Real .2</th>\n",
              "      <th>Discapacitados</th>\n",
              "      <th>Monto Real .3</th>\n",
              "      <th>monto_final</th>\n",
              "    </tr>\n",
              "  </thead>\n",
              "  <tbody>\n",
              "    <tr>\n",
              "      <th>0</th>\n",
              "      <td>ENERO 2017</td>\n",
              "      <td>6254437.0</td>\n",
              "      <td>6,098,587</td>\n",
              "      <td>B/.2,134,505.45</td>\n",
              "      <td>0</td>\n",
              "      <td>B/.-</td>\n",
              "      <td>153,673</td>\n",
              "      <td>B/.53,785.55</td>\n",
              "      <td>2,177</td>\n",
              "      <td>B/.761.95</td>\n",
              "      <td>2189052.95</td>\n",
              "    </tr>\n",
              "    <tr>\n",
              "      <th>1</th>\n",
              "      <td>FEBRERO 2017</td>\n",
              "      <td>5799570.0</td>\n",
              "      <td>5,684,789</td>\n",
              "      <td>B/.1,989,676.15</td>\n",
              "      <td>0</td>\n",
              "      <td>B/.-</td>\n",
              "      <td>113,053</td>\n",
              "      <td>B/.39,568.55</td>\n",
              "      <td>1,728</td>\n",
              "      <td>B/.604.80</td>\n",
              "      <td>2029849.50</td>\n",
              "    </tr>\n",
              "    <tr>\n",
              "      <th>2</th>\n",
              "      <td>MARZO 2017</td>\n",
              "      <td>6981792.0</td>\n",
              "      <td>6,788,179</td>\n",
              "      <td>B/.2,375,864.09</td>\n",
              "      <td>42,846</td>\n",
              "      <td>B/.14,996.10</td>\n",
              "      <td>148,319</td>\n",
              "      <td>B/.51,911.65</td>\n",
              "      <td>2,448</td>\n",
              "      <td>B/.856.80</td>\n",
              "      <td>2443628.64</td>\n",
              "    </tr>\n",
              "    <tr>\n",
              "      <th>3</th>\n",
              "      <td>ABRIL 2017</td>\n",
              "      <td>5797643.0</td>\n",
              "      <td>5,622,331</td>\n",
              "      <td>B/.1,967,815.85</td>\n",
              "      <td>48,228</td>\n",
              "      <td>B/.16,879.80</td>\n",
              "      <td>124,910</td>\n",
              "      <td>B/.43,718.50</td>\n",
              "      <td>2,174</td>\n",
              "      <td>B/.760.90</td>\n",
              "      <td>2029175.05</td>\n",
              "    </tr>\n",
              "    <tr>\n",
              "      <th>4</th>\n",
              "      <td>MAYO 2017</td>\n",
              "      <td>7654786.0</td>\n",
              "      <td>7,419,367</td>\n",
              "      <td>B/.2,596,778.45</td>\n",
              "      <td>65,876</td>\n",
              "      <td>B/.23,056.60</td>\n",
              "      <td>166,608</td>\n",
              "      <td>B/.58,312.80</td>\n",
              "      <td>2,935</td>\n",
              "      <td>B/.1,027.25</td>\n",
              "      <td>2679175.10</td>\n",
              "    </tr>\n",
              "  </tbody>\n",
              "</table>\n",
              "</div>\n",
              "    <div class=\"colab-df-buttons\">\n",
              "\n",
              "  <div class=\"colab-df-container\">\n",
              "    <button class=\"colab-df-convert\" onclick=\"convertToInteractive('df-a95553b2-d9f0-4c98-860a-8531e462b01e')\"\n",
              "            title=\"Convert this dataframe to an interactive table.\"\n",
              "            style=\"display:none;\">\n",
              "\n",
              "  <svg xmlns=\"http://www.w3.org/2000/svg\" height=\"24px\" viewBox=\"0 -960 960 960\">\n",
              "    <path d=\"M120-120v-720h720v720H120Zm60-500h600v-160H180v160Zm220 220h160v-160H400v160Zm0 220h160v-160H400v160ZM180-400h160v-160H180v160Zm440 0h160v-160H620v160ZM180-180h160v-160H180v160Zm440 0h160v-160H620v160Z\"/>\n",
              "  </svg>\n",
              "    </button>\n",
              "\n",
              "  <style>\n",
              "    .colab-df-container {\n",
              "      display:flex;\n",
              "      gap: 12px;\n",
              "    }\n",
              "\n",
              "    .colab-df-convert {\n",
              "      background-color: #E8F0FE;\n",
              "      border: none;\n",
              "      border-radius: 50%;\n",
              "      cursor: pointer;\n",
              "      display: none;\n",
              "      fill: #1967D2;\n",
              "      height: 32px;\n",
              "      padding: 0 0 0 0;\n",
              "      width: 32px;\n",
              "    }\n",
              "\n",
              "    .colab-df-convert:hover {\n",
              "      background-color: #E2EBFA;\n",
              "      box-shadow: 0px 1px 2px rgba(60, 64, 67, 0.3), 0px 1px 3px 1px rgba(60, 64, 67, 0.15);\n",
              "      fill: #174EA6;\n",
              "    }\n",
              "\n",
              "    .colab-df-buttons div {\n",
              "      margin-bottom: 4px;\n",
              "    }\n",
              "\n",
              "    [theme=dark] .colab-df-convert {\n",
              "      background-color: #3B4455;\n",
              "      fill: #D2E3FC;\n",
              "    }\n",
              "\n",
              "    [theme=dark] .colab-df-convert:hover {\n",
              "      background-color: #434B5C;\n",
              "      box-shadow: 0px 1px 3px 1px rgba(0, 0, 0, 0.15);\n",
              "      filter: drop-shadow(0px 1px 2px rgba(0, 0, 0, 0.3));\n",
              "      fill: #FFFFFF;\n",
              "    }\n",
              "  </style>\n",
              "\n",
              "    <script>\n",
              "      const buttonEl =\n",
              "        document.querySelector('#df-a95553b2-d9f0-4c98-860a-8531e462b01e button.colab-df-convert');\n",
              "      buttonEl.style.display =\n",
              "        google.colab.kernel.accessAllowed ? 'block' : 'none';\n",
              "\n",
              "      async function convertToInteractive(key) {\n",
              "        const element = document.querySelector('#df-a95553b2-d9f0-4c98-860a-8531e462b01e');\n",
              "        const dataTable =\n",
              "          await google.colab.kernel.invokeFunction('convertToInteractive',\n",
              "                                                    [key], {});\n",
              "        if (!dataTable) return;\n",
              "\n",
              "        const docLinkHtml = 'Like what you see? Visit the ' +\n",
              "          '<a target=\"_blank\" href=https://colab.research.google.com/notebooks/data_table.ipynb>data table notebook</a>'\n",
              "          + ' to learn more about interactive tables.';\n",
              "        element.innerHTML = '';\n",
              "        dataTable['output_type'] = 'display_data';\n",
              "        await google.colab.output.renderOutput(dataTable, element);\n",
              "        const docLink = document.createElement('div');\n",
              "        docLink.innerHTML = docLinkHtml;\n",
              "        element.appendChild(docLink);\n",
              "      }\n",
              "    </script>\n",
              "  </div>\n",
              "\n",
              "\n",
              "<div id=\"df-1307f04e-3f87-412f-896d-0cae6f3557a3\">\n",
              "  <button class=\"colab-df-quickchart\" onclick=\"quickchart('df-1307f04e-3f87-412f-896d-0cae6f3557a3')\"\n",
              "            title=\"Suggest charts\"\n",
              "            style=\"display:none;\">\n",
              "\n",
              "<svg xmlns=\"http://www.w3.org/2000/svg\" height=\"24px\"viewBox=\"0 0 24 24\"\n",
              "     width=\"24px\">\n",
              "    <g>\n",
              "        <path d=\"M19 3H5c-1.1 0-2 .9-2 2v14c0 1.1.9 2 2 2h14c1.1 0 2-.9 2-2V5c0-1.1-.9-2-2-2zM9 17H7v-7h2v7zm4 0h-2V7h2v10zm4 0h-2v-4h2v4z\"/>\n",
              "    </g>\n",
              "</svg>\n",
              "  </button>\n",
              "\n",
              "<style>\n",
              "  .colab-df-quickchart {\n",
              "      --bg-color: #E8F0FE;\n",
              "      --fill-color: #1967D2;\n",
              "      --hover-bg-color: #E2EBFA;\n",
              "      --hover-fill-color: #174EA6;\n",
              "      --disabled-fill-color: #AAA;\n",
              "      --disabled-bg-color: #DDD;\n",
              "  }\n",
              "\n",
              "  [theme=dark] .colab-df-quickchart {\n",
              "      --bg-color: #3B4455;\n",
              "      --fill-color: #D2E3FC;\n",
              "      --hover-bg-color: #434B5C;\n",
              "      --hover-fill-color: #FFFFFF;\n",
              "      --disabled-bg-color: #3B4455;\n",
              "      --disabled-fill-color: #666;\n",
              "  }\n",
              "\n",
              "  .colab-df-quickchart {\n",
              "    background-color: var(--bg-color);\n",
              "    border: none;\n",
              "    border-radius: 50%;\n",
              "    cursor: pointer;\n",
              "    display: none;\n",
              "    fill: var(--fill-color);\n",
              "    height: 32px;\n",
              "    padding: 0;\n",
              "    width: 32px;\n",
              "  }\n",
              "\n",
              "  .colab-df-quickchart:hover {\n",
              "    background-color: var(--hover-bg-color);\n",
              "    box-shadow: 0 1px 2px rgba(60, 64, 67, 0.3), 0 1px 3px 1px rgba(60, 64, 67, 0.15);\n",
              "    fill: var(--button-hover-fill-color);\n",
              "  }\n",
              "\n",
              "  .colab-df-quickchart-complete:disabled,\n",
              "  .colab-df-quickchart-complete:disabled:hover {\n",
              "    background-color: var(--disabled-bg-color);\n",
              "    fill: var(--disabled-fill-color);\n",
              "    box-shadow: none;\n",
              "  }\n",
              "\n",
              "  .colab-df-spinner {\n",
              "    border: 2px solid var(--fill-color);\n",
              "    border-color: transparent;\n",
              "    border-bottom-color: var(--fill-color);\n",
              "    animation:\n",
              "      spin 1s steps(1) infinite;\n",
              "  }\n",
              "\n",
              "  @keyframes spin {\n",
              "    0% {\n",
              "      border-color: transparent;\n",
              "      border-bottom-color: var(--fill-color);\n",
              "      border-left-color: var(--fill-color);\n",
              "    }\n",
              "    20% {\n",
              "      border-color: transparent;\n",
              "      border-left-color: var(--fill-color);\n",
              "      border-top-color: var(--fill-color);\n",
              "    }\n",
              "    30% {\n",
              "      border-color: transparent;\n",
              "      border-left-color: var(--fill-color);\n",
              "      border-top-color: var(--fill-color);\n",
              "      border-right-color: var(--fill-color);\n",
              "    }\n",
              "    40% {\n",
              "      border-color: transparent;\n",
              "      border-right-color: var(--fill-color);\n",
              "      border-top-color: var(--fill-color);\n",
              "    }\n",
              "    60% {\n",
              "      border-color: transparent;\n",
              "      border-right-color: var(--fill-color);\n",
              "    }\n",
              "    80% {\n",
              "      border-color: transparent;\n",
              "      border-right-color: var(--fill-color);\n",
              "      border-bottom-color: var(--fill-color);\n",
              "    }\n",
              "    90% {\n",
              "      border-color: transparent;\n",
              "      border-bottom-color: var(--fill-color);\n",
              "    }\n",
              "  }\n",
              "</style>\n",
              "\n",
              "  <script>\n",
              "    async function quickchart(key) {\n",
              "      const quickchartButtonEl =\n",
              "        document.querySelector('#' + key + ' button');\n",
              "      quickchartButtonEl.disabled = true;  // To prevent multiple clicks.\n",
              "      quickchartButtonEl.classList.add('colab-df-spinner');\n",
              "      try {\n",
              "        const charts = await google.colab.kernel.invokeFunction(\n",
              "            'suggestCharts', [key], {});\n",
              "      } catch (error) {\n",
              "        console.error('Error during call to suggestCharts:', error);\n",
              "      }\n",
              "      quickchartButtonEl.classList.remove('colab-df-spinner');\n",
              "      quickchartButtonEl.classList.add('colab-df-quickchart-complete');\n",
              "    }\n",
              "    (() => {\n",
              "      let quickchartButtonEl =\n",
              "        document.querySelector('#df-1307f04e-3f87-412f-896d-0cae6f3557a3 button');\n",
              "      quickchartButtonEl.style.display =\n",
              "        google.colab.kernel.accessAllowed ? 'block' : 'none';\n",
              "    })();\n",
              "  </script>\n",
              "</div>\n",
              "\n",
              "    </div>\n",
              "  </div>\n"
            ],
            "application/vnd.google.colaboratory.intrinsic+json": {
              "type": "dataframe",
              "variable_name": "data",
              "summary": "{\n  \"name\": \"data\",\n  \"rows\": 84,\n  \"fields\": [\n    {\n      \"column\": \"\\u00ef\\u00bb\\u00bfFECHA\",\n      \"properties\": {\n        \"dtype\": \"string\",\n        \"num_unique_values\": 84,\n        \"samples\": [\n          \"FEBRERO 2023\",\n          \"ENERO 2017\",\n          \"NOVIEMBRE 2021\"\n        ],\n        \"semantic_type\": \"\",\n        \"description\": \"\"\n      }\n    },\n    {\n      \"column\": \"PASAJEROS MENSUAL\",\n      \"properties\": {\n        \"dtype\": \"string\",\n        \"num_unique_values\": 84,\n        \"samples\": [\n          \" 8,704,968.00 \",\n          \" 6,254,437.00 \",\n          \" 7,174,213.00 \"\n        ],\n        \"semantic_type\": \"\",\n        \"description\": \"\"\n      }\n    },\n    {\n      \"column\": \"Pasajeros Regulares\",\n      \"properties\": {\n        \"dtype\": \"string\",\n        \"num_unique_values\": 84,\n        \"samples\": [\n          \"8,527,241\",\n          \"6,098,587\",\n          \"6,943,687\"\n        ],\n        \"semantic_type\": \"\",\n        \"description\": \"\"\n      }\n    },\n    {\n      \"column\": \" Monto Real \",\n      \"properties\": {\n        \"dtype\": \"string\",\n        \"num_unique_values\": 84,\n        \"samples\": [\n          \" B/.3,359,143.65 \",\n          \" B/.2,134,505.45 \",\n          \" B/.2,737,677.55 \"\n        ],\n        \"semantic_type\": \"\",\n        \"description\": \"\"\n      }\n    },\n    {\n      \"column\": \"Estudiantes\",\n      \"properties\": {\n        \"dtype\": \"string\",\n        \"num_unique_values\": 65,\n        \"samples\": [\n          \"155\",\n          \"289,747\",\n          \"0\"\n        ],\n        \"semantic_type\": \"\",\n        \"description\": \"\"\n      }\n    },\n    {\n      \"column\": \" Monto Real .1\",\n      \"properties\": {\n        \"dtype\": \"string\",\n        \"num_unique_values\": 65,\n        \"samples\": [\n          \" B/.59.15 \",\n          \" B/.118,299.65 \",\n          \" B/.-   \"\n        ],\n        \"semantic_type\": \"\",\n        \"description\": \"\"\n      }\n    },\n    {\n      \"column\": \"Jubilados\",\n      \"properties\": {\n        \"dtype\": \"string\",\n        \"num_unique_values\": 84,\n        \"samples\": [\n          \"167,469\",\n          \"153,673\",\n          \"215,004\"\n        ],\n        \"semantic_type\": \"\",\n        \"description\": \"\"\n      }\n    },\n    {\n      \"column\": \" Monto Real .2\",\n      \"properties\": {\n        \"dtype\": \"string\",\n        \"num_unique_values\": 84,\n        \"samples\": [\n          \" B/.65,473.60 \",\n          \" B/.53,785.55 \",\n          \" B/.83,633.15 \"\n        ],\n        \"semantic_type\": \"\",\n        \"description\": \"\"\n      }\n    },\n    {\n      \"column\": \"Discapacitados\",\n      \"properties\": {\n        \"dtype\": \"string\",\n        \"num_unique_values\": 84,\n        \"samples\": [\n          \"10,228\",\n          \"2,177\",\n          \"15,522\"\n        ],\n        \"semantic_type\": \"\",\n        \"description\": \"\"\n      }\n    },\n    {\n      \"column\": \" Monto Real .3\",\n      \"properties\": {\n        \"dtype\": \"string\",\n        \"num_unique_values\": 84,\n        \"samples\": [\n          \" B/.4,109.45 \",\n          \" B/.761.95 \",\n          \" B/.6,293.75 \"\n        ],\n        \"semantic_type\": \"\",\n        \"description\": \"\"\n      }\n    },\n    {\n      \"column\": \"monto_final\",\n      \"properties\": {\n        \"dtype\": \"number\",\n        \"std\": 1138508.2152553222,\n        \"min\": 403000.65,\n        \"max\": 5110697.449999999,\n        \"num_unique_values\": 84,\n        \"samples\": [\n          3428738.6,\n          2189052.95,\n          2827604.4499999997\n        ],\n        \"semantic_type\": \"\",\n        \"description\": \"\"\n      }\n    }\n  ]\n}"
            }
          },
          "metadata": {},
          "execution_count": 42
        }
      ]
    },
    {
      "cell_type": "code",
      "source": [
        "df = pd.DataFrame(data)"
      ],
      "metadata": {
        "id": "uTO2A0f__lSD"
      },
      "execution_count": 6,
      "outputs": []
    },
    {
      "cell_type": "code",
      "source": [
        "#Extracción de los headers de cada columna\n",
        "df.columns"
      ],
      "metadata": {
        "colab": {
          "base_uri": "https://localhost:8080/"
        },
        "id": "fkwuQJXDBRO5",
        "outputId": "aeef70b4-2953-436f-ae56-e8190a926df6"
      },
      "execution_count": 61,
      "outputs": [
        {
          "output_type": "execute_result",
          "data": {
            "text/plain": [
              "Index(['FECHA', 'PASAJEROS MENSUAL', 'Pasajeros Regulares', ' Monto Real ',\n",
              "       'Estudiantes', ' Monto Real .1', 'Jubilados', ' Monto Real .2',\n",
              "       'Discapacitados', ' Monto Real .3', 'monto_final', 'nueva_columna'],\n",
              "      dtype='object')"
            ]
          },
          "metadata": {},
          "execution_count": 61
        }
      ]
    },
    {
      "cell_type": "markdown",
      "source": [
        "***MONTOS FINALES MENSUALES***\n"
      ],
      "metadata": {
        "id": "jTjNnXYbbSQh"
      }
    },
    {
      "cell_type": "code",
      "source": [
        "num_filas = df.shape[0]\n",
        "montos = []\n",
        "montos_finales = []\n",
        "\n",
        "for rp in range(num_filas):\n",
        "  montos.append(df.iloc[rp,3])\n",
        "  montos.append(df.iloc[rp,5])\n",
        "  montos.append(df.iloc[rp,7])\n",
        "  montos.append(df.iloc[rp,9])\n",
        "\n",
        "  for element in range(len(montos)):\n",
        "    cadena = montos[element]\n",
        "    cadena = cadena.replace('B/.', '')\n",
        "    cadena = cadena.replace(',','')\n",
        "    cadena = cadena.replace('-','0')\n",
        "\n",
        "    montos[element] = float(cadena)\n",
        "  monto= sum(montos)\n",
        "  montos_finales.append(round(monto, 2))\n",
        "  montos = []\n",
        "\n",
        "\"\"\" funcion para agregar la columna monto final y al mismo tiempo reemplazar todos los signos a nada y solo dejar los numeros y junto\n",
        "que sume los valores de las 4 columnas fila por fila\n",
        "\"\"\"\n",
        "df['monto_final'] = df.apply(lambda row: sum(float(row.iloc[i].replace('B/.', '').replace(',', '').replace('-', '0')) for i in [3, 5, 7, 9]), axis=1)\n",
        "print(df['monto_final'])"
      ],
      "metadata": {
        "colab": {
          "base_uri": "https://localhost:8080/"
        },
        "id": "Ylhtk1oVP2pz",
        "outputId": "c6da2656-8fd3-4a55-de43-6a5c3de734de"
      },
      "execution_count": 56,
      "outputs": [
        {
          "output_type": "stream",
          "name": "stdout",
          "text": [
            "0     2189052.95\n",
            "1     2029849.50\n",
            "2     2443628.64\n",
            "3     2029175.05\n",
            "4     2679175.10\n",
            "         ...    \n",
            "79    4636767.90\n",
            "80    4596261.30\n",
            "81    4707947.35\n",
            "82    3938995.45\n",
            "83    4662053.45\n",
            "Name: monto_final, Length: 84, dtype: float64\n"
          ]
        }
      ]
    },
    {
      "cell_type": "code",
      "source": [
        "import pandas as pd\n",
        "import matplotlib.pyplot as plt\n",
        "print(df['FECHA'])\n",
        "grafica = pd.Series(df['monto_final'])\n",
        "plt.title('Monto generado por mes')\n",
        "plt.xlabel('Meses')\n",
        "plt.ylabel('Monto (Millones)')\n",
        "plt.plot(grafica)"
      ],
      "metadata": {
        "colab": {
          "base_uri": "https://localhost:8080/",
          "height": 698
        },
        "id": "X6BSoz366oJ_",
        "outputId": "3e78f828-ce1d-47df-b15d-2395a7f033e8"
      },
      "execution_count": 54,
      "outputs": [
        {
          "output_type": "stream",
          "name": "stdout",
          "text": [
            "0          ENERO 2017\n",
            "1        FEBRERO 2017\n",
            "2          MARZO 2017\n",
            "3          ABRIL 2017\n",
            "4           MAYO 2017\n",
            "           ...       \n",
            "79        AGOSTO 2023\n",
            "80    SEPTIEMBRE 2023\n",
            "81       OCTUBRE 2023\n",
            "82     NOVIEMBRE 2023\n",
            "83     DICIEMBRE 2023\n",
            "Name: FECHA, Length: 84, dtype: object\n"
          ]
        },
        {
          "output_type": "execute_result",
          "data": {
            "text/plain": [
              "[<matplotlib.lines.Line2D at 0x7d6d0c0a3c70>]"
            ]
          },
          "metadata": {},
          "execution_count": 54
        },
        {
          "output_type": "display_data",
          "data": {
            "text/plain": [
              "<Figure size 640x480 with 1 Axes>"
            ],
            "image/png": "[encoded data removed]"
          },
          "metadata": {}
        }
      ]
    },
    {
      "cell_type": "markdown",
      "source": [
        "DEMANDA DE PASAJEROS DE FORMA MENSUAL"
      ],
      "metadata": {
        "id": "zCVx0H-ILLaO"
      }
    },
    {
      "cell_type": "code",
      "source": [
        "grafica = pd.Series(df['PASAJEROS MENSUAL'])\n",
        "plt.title('PASAJEROS MENSUALES')\n",
        "plt.xlabel('Meses')\n",
        "plt.ylabel('Pasajeros (Miles)')\n",
        "plt.plot(grafica)"
      ],
      "metadata": {
        "colab": {
          "base_uri": "https://localhost:8080/",
          "height": 489
        },
        "id": "lUEojAB0LJBa",
        "outputId": "7e268c1c-414c-4510-f013-aba455034f7a"
      },
      "execution_count": 59,
      "outputs": [
        {
          "output_type": "execute_result",
          "data": {
            "text/plain": [
              "[<matplotlib.lines.Line2D at 0x7d6d0bfaafe0>]"
            ]
          },
          "metadata": {},
          "execution_count": 59
        },
        {
          "output_type": "display_data",
          "data": {
            "text/plain": [
              "<Figure size 640x480 with 1 Axes>"
            ],
            "image/png": "[encoded data removed]"
          },
          "metadata": {}
        }
      ]
    },
    {
      "cell_type": "markdown",
      "source": [
        "***MES Y AÑO CON MAYOR Y MENOR GANACIA***"
      ],
      "metadata": {
        "id": "2Q-g-zv7bYGL"
      }
    },
    {
      "cell_type": "code",
      "source": [
        "#primero buscamos el maximo luego la fila donde lo encontramos y terminamos buscando el mes con la fila\n",
        "#primero buscamos el maximo luego la fila donde lo encontramos y terminamos buscando el mes con la fila\n",
        "mes_maximo = df['monto_final'].max()\n",
        "fila_mes_maximo = df[df['monto_final'] == mes_maximo]\n",
        "fecha_mes_maximo = fila_mes_maximo['FECHA'].values[0]\n",
        "print(f\"Mes con mayor Ganancia es {fecha_mes_maximo} con el monto de: {round(mes_maximo, 2)}\")\n",
        "\n",
        "mes_minimo = df['monto_final'].min()\n",
        "fila_mes_minimo = df[df['monto_final'] == mes_minimo]\n",
        "fecha_mes_minimo = fila_mes_minimo['FECHA'].values[0]\n",
        "print(f\"Mes con menor Ganancia es {fecha_mes_minimo} con el monto de: {round(mes_minimo, 2)}\")\n",
        "\n"
      ],
      "metadata": {
        "colab": {
          "base_uri": "https://localhost:8080/"
        },
        "id": "rfccMDatXUXW",
        "outputId": "fb537be7-d5aa-474f-ad84-787379a2b8a0"
      },
      "execution_count": 50,
      "outputs": [
        {
          "output_type": "stream",
          "name": "stdout",
          "text": [
            "Mes con mayor Ganancia es OCTUBRE 2019 con el monto de: 5110697.45\n",
            "Mes con menor Ganancia es ABRIL 2020 con el monto de: 403000.65\n"
          ]
        }
      ]
    },
    {
      "cell_type": "markdown",
      "source": [
        "***MES CON MAYOR Y MENOR CANTIDAD DE PASAJEROS***"
      ],
      "metadata": {
        "id": "l8qoCKQBbhMA"
      }
    },
    {
      "cell_type": "code",
      "source": [
        "#Pasajeros maximos y minimos\n",
        "df['PASAJEROS MENSUAL'] = df['PASAJEROS MENSUAL'].str.replace(',', '').str.replace('-', '0').astype(float)\n",
        "mes_maximo_pasajeros = df['PASAJEROS MENSUAL'].max()\n",
        "fila_mes_maximo_pasajeros = df[df['PASAJEROS MENSUAL'] == mes_maximo_pasajeros]\n",
        "fecha_mes_maximo_pasajeros = fila_mes_maximo_pasajeros['ï»¿FECHA'].values[0]\n",
        "print(f\"Mes con mayor numero de usuarios es {fecha_mes_maximo_pasajeros} con la cantidad de: {round(mes_maximo_pasajeros, 0)}\")\n",
        "\n",
        "mes_minimo_pasajeros = df['PASAJEROS MENSUAL'].min()\n",
        "fila_mes_minimo_pasajeros = df[df['PASAJEROS MENSUAL'] == mes_minimo_pasajeros]\n",
        "fecha_mes_minimo_pasajeros = fila_mes_minimo_pasajeros['ï»¿FECHA'].values[0]\n",
        "print(f\"Mes con menor numero de usuarios es {fecha_mes_minimo_pasajeros} con el cantidad de: {round(mes_minimo_pasajeros, 0)}\")\n"
      ],
      "metadata": {
        "colab": {
          "base_uri": "https://localhost:8080/"
        },
        "id": "FAnTiV-fXaGg",
        "outputId": "be269e9d-a096-4c51-af69-31334b9c8980"
      },
      "execution_count": 12,
      "outputs": [
        {
          "output_type": "stream",
          "name": "stdout",
          "text": [
            "Mes con mayor numero de usuarios es OCTUBRE 2019 con la cantidad de: 12936982.0\n",
            "Mes con menor numero de usuarios es ABRIL 2020 con el cantidad de: 1013895.0\n"
          ]
        }
      ]
    },
    {
      "cell_type": "markdown",
      "source": [
        "***MEDIA DE PASAJEROS***"
      ],
      "metadata": {
        "id": "lfrVtD1VrP9v"
      }
    },
    {
      "cell_type": "code",
      "source": [
        "#Media pasajeros\n",
        "media_pasajeros = df['PASAJEROS MENSUAL'].mean()\n",
        "print(\"La media de pasajeros mensualmente es: \", round(media_pasajeros, 0))"
      ],
      "metadata": {
        "colab": {
          "base_uri": "https://localhost:8080/"
        },
        "id": "FbMwI82rXlZB",
        "outputId": "defcb0c8-8df7-4f72-b26f-29f68fc0f7c3"
      },
      "execution_count": 15,
      "outputs": [
        {
          "output_type": "stream",
          "name": "stdout",
          "text": [
            "La media de pasajeros mensualmente es:  8115111.0\n"
          ]
        }
      ]
    }
  ]
}